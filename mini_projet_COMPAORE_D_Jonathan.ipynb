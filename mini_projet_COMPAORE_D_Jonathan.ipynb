{
 "cells": [
  {
   "cell_type": "markdown",
   "id": "b37faf85",
   "metadata": {},
   "source": [
    "#### Mini Projet COMPAORE Delwendé Jonathan"
   ]
  },
  {
   "cell_type": "markdown",
   "id": "e3549f69",
   "metadata": {},
   "source": [
    "#### Lien du repertoire github correspondant: "
   ]
  },
  {
   "cell_type": "markdown",
   "id": "45cff3f9",
   "metadata": {},
   "source": [
    "#### 1. Export de la base de données qui recense les informations sur le Burkina Faso (https://download.geonames.org/export/dump/). code iso BF"
   ]
  },
  {
   "cell_type": "markdown",
   "id": "8dc90dd3",
   "metadata": {},
   "source": [
    "#### 2. Téléchargement du fichier zip correspondant (BF.zip)"
   ]
  },
  {
   "cell_type": "markdown",
   "id": "e96532f1",
   "metadata": {},
   "source": [
    "#### 3. Opérations de prétraitement et les filtres nécessaires au fichier afin de ne conserver que les colonnes correspondantes"
   ]
  },
  {
   "cell_type": "code",
   "execution_count": 44,
   "id": "2427808d",
   "metadata": {},
   "outputs": [],
   "source": [
    "#bibliothèques nécessaires\n",
    "#pip install pandas\n",
    "#pip install XlsxWriter\n",
    "\n",
    "import pandas as pd\n",
    "\n",
    "# Lecture du fichier\n",
    "bf_path = \"BF/BF.txt\"\n",
    "df = pd.read_csv(bf_path, sep=\"\\t\", header=None, encoding=\"utf-8\")"
   ]
  },
  {
   "cell_type": "markdown",
   "id": "2a3365e5",
   "metadata": {},
   "source": [
    "* 3.1: Sélection des colonnes Identifiants, Noms de lieux, latitudes, longitudes"
   ]
  },
  {
   "cell_type": "code",
   "execution_count": 45,
   "id": "5c29f618",
   "metadata": {},
   "outputs": [],
   "source": [
    "df_filtered = df.iloc[:, [0, 1, 4, 5]]"
   ]
  },
  {
   "cell_type": "markdown",
   "id": "887c9070",
   "metadata": {},
   "source": [
    "* 3.2 Renommage avec des noms de colonne"
   ]
  },
  {
   "cell_type": "code",
   "execution_count": 46,
   "id": "477ba3c2",
   "metadata": {},
   "outputs": [],
   "source": [
    "df_filtered.columns = [\"ID\", \"location_name\", \"lat\", \"long\"]"
   ]
  },
  {
   "cell_type": "markdown",
   "id": "47a9b2f3",
   "metadata": {},
   "source": [
    "* 3.3 Sauvegarde des données dans un fichier CSV, nommé burkina_location.csv"
   ]
  },
  {
   "cell_type": "code",
   "execution_count": 47,
   "id": "de73547c",
   "metadata": {},
   "outputs": [
    {
     "name": "stdout",
     "output_type": "stream",
     "text": [
      "'burkina_location.csv' créé avec succès !\n"
     ]
    }
   ],
   "source": [
    "df_filtered.to_csv(\"burkina_location.csv\", index=False, encoding=\"utf-8\")\n",
    "print(\"'burkina_location.csv' créé avec succès !\")"
   ]
  },
  {
   "cell_type": "markdown",
   "id": "a3670a8d",
   "metadata": {},
   "source": [
    "### 4 - Opérations sur le fichier CSV burkina_location.csv."
   ]
  },
  {
   "cell_type": "code",
   "execution_count": 48,
   "id": "6dbdf89d",
   "metadata": {},
   "outputs": [],
   "source": [
    "#Lecture du fichier CSV principal\n",
    "df = pd.read_csv(\"burkina_location.csv\", encoding=\"utf-8\")"
   ]
  },
  {
   "cell_type": "markdown",
   "id": "6d6fa599",
   "metadata": {},
   "source": [
    "* 4.1 Extraction des données contenant \"gounghin\""
   ]
  },
  {
   "cell_type": "code",
   "execution_count": 49,
   "id": "50c684a0",
   "metadata": {},
   "outputs": [
    {
     "name": "stdout",
     "output_type": "stream",
     "text": [
      "gounghin.csv créé : 10 lignes\n"
     ]
    }
   ],
   "source": [
    "gounghin_df = df[df[\"location_name\"].str.contains(\"gounghin\", case=False, na=False)]\n",
    "gounghin_df.to_csv(\"gounghin.csv\", index=False, encoding=\"utf-8\")\n",
    "print(\"gounghin.csv créé :\", gounghin_df.shape[0], \"lignes\")"
   ]
  },
  {
   "cell_type": "markdown",
   "id": "903b41d1",
   "metadata": {},
   "source": [
    "* 4.2 Extraction des lieux dont la première lettre est entre 'A' et 'P'"
   ]
  },
  {
   "cell_type": "code",
   "execution_count": 53,
   "id": "46d1f39f",
   "metadata": {},
   "outputs": [
    {
     "name": "stdout",
     "output_type": "stream",
     "text": [
      "Sous-partie A à P : 8306 lignes\n"
     ]
    }
   ],
   "source": [
    "subset_AP = df[df[\"location_name\"].str[0].str.upper().between(\"A\", \"P\")]\n",
    "print(\"Sous-partie A à P :\", subset_AP.shape[0], \"lignes\")"
   ]
  },
  {
   "cell_type": "markdown",
   "id": "a2ce4f9c",
   "metadata": {},
   "source": [
    "* 4.3 Identification respectives des latitude et longitude minimale et des noms associés"
   ]
  },
  {
   "cell_type": "code",
   "execution_count": 54,
   "id": "0df01d1b",
   "metadata": {},
   "outputs": [
    {
     "name": "stdout",
     "output_type": "stream",
     "text": [
      "Latitude minimale : 5.21609 - Lieux : ['Komoé']\n",
      "Longitude minimale : -5.65968 - Lieux : ['Banifing']\n"
     ]
    }
   ],
   "source": [
    "lat_min = df[\"lat\"].min()\n",
    "lon_min = df[\"long\"].min()\n",
    "\n",
    "lieux_lat_min = df[df[\"lat\"] == lat_min][\"location_name\"].tolist()\n",
    "lieux_lon_min = df[df[\"long\"] == lon_min][\"location_name\"].tolist()\n",
    "\n",
    "print(f\"Latitude minimale : {lat_min} - Lieux : {lieux_lat_min}\")\n",
    "print(f\"Longitude minimale : {lon_min} - Lieux : {lieux_lon_min}\")"
   ]
  },
  {
   "cell_type": "markdown",
   "id": "089127d2",
   "metadata": {},
   "source": [
    "* 4.4 Lieux dont lat >= 11 et lon <= 0.5"
   ]
  },
  {
   "cell_type": "code",
   "execution_count": 55,
   "id": "e13c2999",
   "metadata": {},
   "outputs": [
    {
     "name": "stdout",
     "output_type": "stream",
     "text": [
      "Lieux dans la zone demandée : 9466 lignes\n",
      "             ID location_name       lat     long\n",
      "5       2353158      Zyonguen  12.36667 -0.45000\n",
      "6       2353159     Zyiliwèlè  12.38333 -2.73333\n",
      "7       2353160        Zyanko  12.78333 -0.41667\n",
      "8       2353161         Zouta  13.14908 -1.28197\n",
      "9       2353162     Zourtenga  12.95741 -1.28745\n",
      "...         ...           ...       ...      ...\n",
      "11953  13494828     Tounougou  11.21462 -0.06965\n",
      "11954  13494829         Karmé  11.66346  0.08201\n",
      "11955  13494830     Damdamkom  11.14989  0.43655\n",
      "11956  13494831       Dazenré  11.43801  0.21293\n",
      "11957  13494832   Pogoyoaguen  11.44725  0.21074\n",
      "\n",
      "[9466 rows x 4 columns]\n"
     ]
    }
   ],
   "source": [
    "zone_df = df[(df[\"lat\"] >= 11) & (df[\"long\"] <= 0.5)]\n",
    "print(\"Lieux dans la zone demandée :\", zone_df.shape[0], \"lignes\")\n",
    "print(zone_df)"
   ]
  },
  {
   "cell_type": "markdown",
   "id": "4a4d06c1",
   "metadata": {},
   "source": [
    "### 5 Création du fichier Excel avec deux feuilles à partir des extractions de l'étape 4"
   ]
  },
  {
   "cell_type": "code",
   "execution_count": 56,
   "id": "cfc32be2",
   "metadata": {},
   "outputs": [
    {
     "name": "stdout",
     "output_type": "stream",
     "text": [
      "Fichier Excel 'mini_projet.xlsx' créé avec succès !\n",
      "Feuilles : 'gounghin' et 'A_to_P'\n"
     ]
    }
   ],
   "source": [
    "excel_path = \"mini_projet.xlsx\"\n",
    "with pd.ExcelWriter(excel_path, engine=\"xlsxwriter\") as writer:\n",
    "    gounghin_df.to_excel(writer, sheet_name=\"gounghin\", index=False)\n",
    "    subset_AP.to_excel(writer, sheet_name=\"A_to_P\", index=False)\n",
    "\n",
    "print(f\"Fichier Excel '{excel_path}' créé avec succès !\")\n",
    "print(\"Feuilles : 'gounghin' et 'A_to_P'\")"
   ]
  }
 ],
 "metadata": {
  "kernelspec": {
   "display_name": "Python 3",
   "language": "python",
   "name": "python3"
  },
  "language_info": {
   "codemirror_mode": {
    "name": "ipython",
    "version": 3
   },
   "file_extension": ".py",
   "mimetype": "text/x-python",
   "name": "python",
   "nbconvert_exporter": "python",
   "pygments_lexer": "ipython3",
   "version": "3.13.3"
  }
 },
 "nbformat": 4,
 "nbformat_minor": 5
}
